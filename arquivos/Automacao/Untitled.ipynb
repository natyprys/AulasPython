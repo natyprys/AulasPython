{
 "cells": [
  {
   "cell_type": "code",
   "execution_count": null,
   "id": "870a6890",
   "metadata": {},
   "outputs": [],
   "source": [
    "from bs4 import BeautifulSoup\n",
    "from urllib import parse\n",
    "import requests\n",
    "import pandas as pd\n",
    "\n",
    "def get_cookies(url):\n",
    "    session = requests.Session()\n",
    "    response = session.get(url)\n",
    "    return session.cookies.get_dict()\n",
    "\n",
    "MAIN_URL = 'https://processual.trf1.jus.br/'\n",
    "SEARCH_URL = 'https://processual.trf1.jus.br/consultaProcessual/parte/listar.php'\n",
    "PROCESSOS_URL = 'https://processual.trf1.jus.br/consultaProcessual/processo.php'\n",
    "\n",
    "data = {\n",
    "  'secao': 'TRF1',\n",
    "  'pg': '2',\n",
    "  'enviar': 'Pesquisar',\n",
    "  'nome': 'joao silva'\n",
    "}\n",
    "\n",
    "cookies = get_cookies(MAIN_URL)\n",
    "search_response = requests.post(SEARCH_URL, cookies=cookies, data=data)\n",
    "search_html = BeautifulSoup(search_response.text, \"html.parser\")\n",
    "processos = search_html.findAll('a', {'class':'listar-processo'})\n",
    "temp_href_list = [f'https://processual.trf1.jus.br{processo[\"href\"]}' for processo in processos]\n",
    "\n",
    "processos_params_list = []\n",
    "params = (('secao', 'TRF1'),)\n",
    "for href in temp_href_list:\n",
    "  \n",
    "  temp_response = requests.get(href, cookies=cookies, params=params)\n",
    "  temp_html = BeautifulSoup(temp_response.text, \"html.parser\")\n",
    "  temp_info = temp_html.find('a')\n",
    "  processos_params_list.append((parse.parse_qsl(temp_info['href'])[0][1], parse.parse_qsl(temp_info['href'])[2][1]))\n",
    "\n",
    "headers = {\n",
    "  'Referer': 'https://processual.trf1.jus.br/consultaProcessual/nomeParte.php?secao=TRF1',\n",
    "}\n",
    "\n",
    "columns = ['PROCESSO', 'NOVA_NUMERACAO', 'GRUPO', 'ASSUNTO', 'DATA_DE_ATUACAO', 'ORGAO_JULGADOR', 'JUIZ_RELATOR', 'PROCESSO_ORIGINARIO']\n",
    "\n",
    "df = pd.DataFrame(columns=columns)\n",
    "\n",
    "for processo in processos_params_list[:10]:\n",
    "  current_param = (\n",
    "    ('proc', processo[0]),\n",
    "    ('secao', 'TRF1'),\n",
    "    ('nome', processo[1]),\n",
    "    ('mostrarBaixados', 'N'),\n",
    "  )\n",
    "  processo_table = BeautifulSoup(requests.get(PROCESSOS_URL, params=current_param, cookies=cookies, headers=headers).text, \"html.parser\").find('table')\n",
    "  df.loc[df.shape[0]] = [i.get_text() for i in processo_table.findAll('td')]\n",
    "\n",
    "df = df.reset_index(drop=True)\n",
    "df['ASSUNTO'] = df['ASSUNTO'].str.strip()\n",
    "df.to_csv('processos.csv', index=False)"
   ]
  },
  {
   "cell_type": "code",
   "execution_count": null,
   "id": "2f591f0a",
   "metadata": {},
   "outputs": [],
   "source": []
  }
 ],
 "metadata": {
  "kernelspec": {
   "display_name": "Python 3 (ipykernel)",
   "language": "python",
   "name": "python3"
  },
  "language_info": {
   "codemirror_mode": {
    "name": "ipython",
    "version": 3
   },
   "file_extension": ".py",
   "mimetype": "text/x-python",
   "name": "python",
   "nbconvert_exporter": "python",
   "pygments_lexer": "ipython3",
   "version": "3.9.7"
  }
 },
 "nbformat": 4,
 "nbformat_minor": 5
}
