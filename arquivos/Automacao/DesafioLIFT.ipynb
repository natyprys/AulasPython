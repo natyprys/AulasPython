{
 "cells": [
  {
   "cell_type": "markdown",
   "id": "1786fd48",
   "metadata": {},
   "source": [
    "desafio para o LIFT\n",
    "\n",
    "Instalar Selenium - anaconda - pip install selenium\n",
    "Baixar o webdriver\n",
    "\n",
    "Copy XPath no Elements do site (colocar sempre com aspas simples)- para copiar o lugar onde eu desejo clicar\n",
    "\n"
   ]
  },
  {
   "cell_type": "code",
   "execution_count": 3,
   "id": "33d0d9ca",
   "metadata": {
    "scrolled": true
   },
   "outputs": [
    {
     "name": "stderr",
     "output_type": "stream",
     "text": [
      "C:\\Users\\User\\AppData\\Local\\Temp/ipykernel_10988/91368132.py:9: DeprecationWarning: find_element_by_xpath is deprecated. Please use find_element(by=By.XPATH, value=xpath) instead\n",
      "  navegador.find_element_by_xpath('//*[@id=\"nome\"]').send_keys(nomePesquisa)\n",
      "C:\\Users\\User\\AppData\\Local\\Temp/ipykernel_10988/91368132.py:12: DeprecationWarning: find_element_by_xpath is deprecated. Please use find_element(by=By.XPATH, value=xpath) instead\n",
      "  navegador.find_element_by_xpath('//*[@id=\"enviar\"]').click()\n",
      "C:\\Users\\User\\AppData\\Local\\Temp/ipykernel_10988/91368132.py:18: DeprecationWarning: find_elements_by_class_name is deprecated. Please use find_elements(by=By.CLASS_NAME, value=name) instead\n",
      "  element = navegador.find_elements_by_class_name(\"listar-processo\")\n"
     ]
    },
    {
     "name": "stdout",
     "output_type": "stream",
     "text": [
      "MATHEUS HENRIQUE BATISTA FARIA\n",
      "MATHEUS HENRIQUE BATISTA FARIA\n",
      "MATHEUS HENRIQUE BORGES DE LIMA\n",
      "MATHEUS HENRIQUE BRAGA\n",
      "MATHEUS HENRIQUE CHAVES DA SILVA\n",
      "MATHEUS HENRIQUE DA COSTA ARAUJO\n",
      "MATHEUS HENRIQUE DA COSTA PEREIRA\n",
      "MATHEUS HENRIQUE DA SILVA\n",
      "MATHEUS HENRIQUE DA SILVA\n",
      "MATHEUS HENRIQUE DA SILVA\n",
      "MATHEUS HENRIQUE DA SILVA\n"
     ]
    }
   ],
   "source": [
    "from selenium import webdriver\n",
    "\n",
    "navegador = webdriver.Chrome()\n",
    "url = 'https://processual.trf1.jus.br/consultaProcessual/nomeParte.php?secao=TRF1'\n",
    "navegador.get(url)\n",
    "\n",
    "#para clicar e digitar o nome (XPath)\n",
    "nomePesquisa = \"Matheus Henrique\"\n",
    "navegador.find_element_by_xpath('//*[@id=\"nome\"]').send_keys(nomePesquisa)\n",
    "\n",
    "#para clicar em pesquisar\n",
    "navegador.find_element_by_xpath('//*[@id=\"enviar\"]').click()\n",
    "\n",
    "# selecionar nomes do listar-processo\n",
    "\n",
    "# Se eu coloco só o find_elements eu tenho de retorno uma lista de elementos\n",
    "# Se eu quero ver um atributo do WebElements da lista eu coloco esse .text\n",
    "element = navegador.find_elements_by_class_name(\"listar-processo\")\n",
    "\n",
    "nome1Processo = (element [0].text)\n",
    "print (nome1Processo)\n",
    "#clicar = navegador.find_element_by_name(nome1Processo).click()\n",
    "\n",
    "#nome = navegador.find_element(by.name, nome1Processo)\n",
    "#clicar.click()\n",
    "\n",
    "for i in range (10):\n",
    "    nomeProcesso = (element [i].text)\n",
    "    print (nomeProcesso)\n",
    "    # def find_elements_by_name(navegador, nomeProcesso) -> List[WebElement]:  \n",
    "            "
   ]
  },
  {
   "cell_type": "code",
   "execution_count": null,
   "id": "ef2a0bfd",
   "metadata": {},
   "outputs": [],
   "source": []
  }
 ],
 "metadata": {
  "kernelspec": {
   "display_name": "Python 3 (ipykernel)",
   "language": "python",
   "name": "python3"
  },
  "language_info": {
   "codemirror_mode": {
    "name": "ipython",
    "version": 3
   },
   "file_extension": ".py",
   "mimetype": "text/x-python",
   "name": "python",
   "nbconvert_exporter": "python",
   "pygments_lexer": "ipython3",
   "version": "3.9.7"
  }
 },
 "nbformat": 4,
 "nbformat_minor": 5
}
